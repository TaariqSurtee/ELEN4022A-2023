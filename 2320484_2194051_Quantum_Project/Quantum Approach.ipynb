{
 "cells": [
  {
   "cell_type": "code",
   "execution_count": 6,
   "metadata": {},
   "outputs": [
    {
     "name": "stdout",
     "output_type": "stream",
     "text": [
      "[2, 4, 2, 4, 3, 3, 5, 4, 4, 5, 2, 3, 6, 3, 2, 4, 3, 4, 2, 3, 5, 4, 5, 2, 3, 3, 3, 5, 4, 3, 4, 4, 4, 3, 5, 4, 3, 4, 3, 5, 3, 3, 2, 4, 6, 2, 4, 3, 4, 5, 4, 2, 5, 3, 4, 2, 2, 3, 5, 5, 3, 2, 5, 3, 4, 5, 5, 4, 2, 3, 4, 5, 3, 3, 3, 5, 4, 4, 2, 5, 5, 3, 3, 3, 3, 3, 2, 3, 4, 3, 3, 3, 3, 3, 5, 3, 6, 4, 4, 3, 3, 4, 2, 2, 4, 2, 2, 4, 5, 5, 5, 4, 3, 5, 3, 2, 4, 2, 3, 3, 3, 5, 4, 1, 4, 3, 3, 6, 4, 5, 3, 4, 3, 4, 4, 4, 3, 3, 4, 3, 4, 3, 2, 4, 5, 4, 4, 3, 4, 3, 2, 4, 3, 3, 3, 1, 1, 5, 2, 2, 3, 3, 3, 4, 4, 3, 4, 6, 6, 4, 5, 6, 3, 4, 4, 5, 3, 4, 4, 2, 4, 4, 2, 5, 1, 5, 5, 3, 3, 3, 5, 5, 5, 3, 4, 5, 3, 2, 4, 4, 4, 3, 5, 6, 6, 4, 4, 3, 6, 4, 3, 3, 4, 2, 6, 4, 4, 3, 5, 3, 5, 4, 5, 4, 3, 4, 2, 3, 3, 2, 2, 1, 6, 4, 4, 4, 4, 3, 2, 4, 3, 2, 3, 4, 5, 3, 4, 5, 3, 2, 4, 3, 3, 3, 4, 2, 6, 3, 3, 3, 6, 4, 2, 5, 4, 4, 4, 2, 4, 6, 3, 4, 4, 5, 5, 3, 4, 4, 1, 2, 3, 4, 2, 3, 5, 5, 3, 4, 5, 4, 4, 2, 5, 4, 4, 4, 3, 4, 4, 3]\n"
     ]
    }
   ],
   "source": [
    "from ibm_quantum_widgets import CircuitComposer\n",
    "from qiskit import *\n",
    "from numpy import pi\n",
    "\n",
    "qreg_q = QuantumRegister(5, 'q')\n",
    "creg_c = ClassicalRegister(5, 'c')\n",
    "circuit = QuantumCircuit(qreg_q, creg_c)\n",
    "\n",
    "circuit.h(qreg_q[1])\n",
    "circuit.h(qreg_q[2])\n",
    "circuit.h(qreg_q[3])\n",
    "circuit.h(qreg_q[4])\n",
    "circuit.h(qreg_q[0])\n",
    "circuit.measure(qreg_q[0], creg_c[0])\n",
    "circuit.measure(qreg_q[1], creg_c[1])\n",
    "circuit.measure(qreg_q[2], creg_c[2])\n",
    "circuit.measure(qreg_q[3], creg_c[3])\n",
    "circuit.measure(qreg_q[4], creg_c[4])\n",
    "\n",
    "\n",
    "editor = CircuitComposer(circuit=circuit)\n",
    "# Transpile for simulator\n",
    "simulator = Aer.get_backend('aer_simulator')\n",
    "\n",
    "result = simulator.run(circuit, shots=300, memory=True).result()\n",
    "memory = result.get_memory(circuit)\n",
    "\n",
    "#function to count the ones in a list of bit patterns\n",
    "def count_ones(bits):\n",
    "    Ones_Vector = []\n",
    "    for i in range(0,len(bits)):\n",
    "        count = 0\n",
    "        byte = bits[i]\n",
    "        for k in range(0,len(byte)):\n",
    "            if byte[k] == \"1\":\n",
    "                count+=1\n",
    "        #add one for the \"(R+1)\"\n",
    "        count +=1\n",
    "        Ones_Vector.append(count)\n",
    "    return Ones_Vector\n",
    "#returns all the rolls \n",
    "rolls = count_ones(memory)\n",
    "print(rolls)"
   ]
  },
  {
   "cell_type": "code",
   "execution_count": 11,
   "metadata": {
    "tags": []
   },
   "outputs": [
    {
     "name": "stdout",
     "output_type": "stream",
     "text": [
      "[6, 41, 94, 95, 49, 15]\n"
     ]
    }
   ],
   "source": [
    "Number_Counts  =[0]*6\n",
    "for i in range(0,len(rolls)):\n",
    "    Number_Counts[rolls[i]-1] += 1\n",
    "\n",
    "#in order from 1 to 6, this shows the number of those value thrown [1,2,3,4,5,6]\n",
    "print(Number_Counts)"
   ]
  },
  {
   "cell_type": "code",
   "execution_count": null,
   "metadata": {},
   "outputs": [],
   "source": []
  }
 ],
 "metadata": {
  "kernelspec": {
   "display_name": "Python 3 (ipykernel)",
   "language": "python",
   "name": "python3"
  },
  "language_info": {
   "codemirror_mode": {
    "name": "ipython",
    "version": 3
   },
   "file_extension": ".py",
   "mimetype": "text/x-python",
   "name": "python",
   "nbconvert_exporter": "python",
   "pygments_lexer": "ipython3",
   "version": "3.10.8"
  },
  "widgets": {
   "application/vnd.jupyter.widget-state+json": {
    "state": {
     "14a78803c8d5494bbd77e02196f265bb": {
      "model_module": "@quantum/lab-widgets",
      "model_module_version": "4.0.17",
      "model_name": "CircuitComposerModel",
      "state": {
       "circuit": "\"OPENQASM 2.0;\\ninclude \\\"qelib1.inc\\\";\\nqreg q[5];\\ncreg c[5];\\nh q[1];\\nh q[2];\\nh q[3];\\nh q[4];\\nh q[0];\\nmeasure q[0] -> c[0];\\nmeasure q[1] -> c[1];\\nmeasure q[2] -> c[2];\\nmeasure q[3] -> c[3];\\nmeasure q[4] -> c[4];\\n\"",
       "editable": true,
       "layout": "IPY_MODEL_e8af763ddca945b0a72489067c6445e2",
       "qiskit_code_cell_index": -1
      }
     },
     "215b382e1a2f45639474c6450715f22f": {
      "model_module": "@quantum/lab-widgets",
      "model_module_version": "4.0.17",
      "model_name": "CircuitComposerModel",
      "state": {
       "circuit": "\"OPENQASM 2.0;\\ninclude \\\"qelib1.inc\\\";\\nqreg q[5];\\ncreg c[5];\\nh q[1];\\nh q[2];\\nh q[3];\\nh q[4];\\nh q[0];\\nmeasure q[0] -> c[0];\\nmeasure q[1] -> c[1];\\nmeasure q[2] -> c[2];\\nmeasure q[3] -> c[3];\\nmeasure q[4] -> c[4];\\n\"",
       "editable": true,
       "layout": "IPY_MODEL_28492e80bbb543dda45e44c3fa65ba4d",
       "qiskit_code_cell_index": -1
      }
     },
     "28492e80bbb543dda45e44c3fa65ba4d": {
      "model_module": "@jupyter-widgets/base",
      "model_module_version": "2.0.0",
      "model_name": "LayoutModel",
      "state": {}
     },
     "5f8907c00611468a94c8532764bbbbaf": {
      "model_module": "@jupyter-widgets/base",
      "model_module_version": "2.0.0",
      "model_name": "LayoutModel",
      "state": {}
     },
     "b6b070235bc9496aa07f355aad87bd72": {
      "model_module": "@jupyter-widgets/base",
      "model_module_version": "2.0.0",
      "model_name": "LayoutModel",
      "state": {}
     },
     "b79ca337be184c22be162e9c379d349d": {
      "model_module": "@quantum/lab-widgets",
      "model_module_version": "4.0.17",
      "model_name": "CircuitComposerModel",
      "state": {
       "circuit": "\"OPENQASM 2.0;\\ninclude \\\"qelib1.inc\\\";\\nqreg q[5];\\ncreg c[5];\\nh q[1];\\nh q[2];\\nh q[3];\\nh q[4];\\nh q[0];\\nmeasure q[0] -> c[0];\\nmeasure q[1] -> c[1];\\nmeasure q[2] -> c[2];\\nmeasure q[3] -> c[3];\\nmeasure q[4] -> c[4];\\n\"",
       "editable": true,
       "layout": "IPY_MODEL_5f8907c00611468a94c8532764bbbbaf",
       "qiskit_code_cell_index": -1
      }
     },
     "dbae0d75dc384a2fa2d62b1ca25b838e": {
      "model_module": "@quantum/lab-widgets",
      "model_module_version": "4.0.17",
      "model_name": "CircuitComposerModel",
      "state": {
       "circuit": "\"OPENQASM 2.0;\\ninclude \\\"qelib1.inc\\\";\\nqreg q[5];\\ncreg c[5];\\nh q[1];\\nh q[2];\\nh q[3];\\nh q[4];\\nh q[0];\\nmeasure q[0] -> c[0];\\nmeasure q[1] -> c[1];\\nmeasure q[2] -> c[2];\\nmeasure q[3] -> c[3];\\nmeasure q[4] -> c[4];\\n\"",
       "editable": true,
       "layout": "IPY_MODEL_b6b070235bc9496aa07f355aad87bd72",
       "qiskit_code_cell_index": -1
      }
     },
     "dc6dfdf673854b86a49cf988d4564889": {
      "model_module": "@quantum/lab-widgets",
      "model_module_version": "4.0.17",
      "model_name": "CircuitComposerModel",
      "state": {
       "circuit": "\"OPENQASM 2.0;\\ninclude \\\"qelib1.inc\\\";\\nqreg q[5];\\ncreg c[5];\\nh q[1];\\nh q[2];\\nh q[3];\\nh q[4];\\nh q[0];\\nmeasure q[0] -> c[0];\\nmeasure q[1] -> c[1];\\nmeasure q[2] -> c[2];\\nmeasure q[3] -> c[3];\\nmeasure q[4] -> c[4];\\n\"",
       "editable": true,
       "layout": "IPY_MODEL_ecac319da1bc4e339bd9ba5f10761ee2",
       "qiskit_code_cell_index": -1
      }
     },
     "e0644d12e5c24e6dacaec0b8a1fdb26b": {
      "model_module": "@jupyter-widgets/base",
      "model_module_version": "2.0.0",
      "model_name": "LayoutModel",
      "state": {}
     },
     "e8af763ddca945b0a72489067c6445e2": {
      "model_module": "@jupyter-widgets/base",
      "model_module_version": "2.0.0",
      "model_name": "LayoutModel",
      "state": {}
     },
     "ecac319da1bc4e339bd9ba5f10761ee2": {
      "model_module": "@jupyter-widgets/base",
      "model_module_version": "2.0.0",
      "model_name": "LayoutModel",
      "state": {}
     },
     "ee6d2494ad5043d5911413e08964a41f": {
      "model_module": "@quantum/lab-widgets",
      "model_module_version": "4.0.17",
      "model_name": "CircuitComposerModel",
      "state": {
       "circuit": "\"OPENQASM 2.0;\\ninclude \\\"qelib1.inc\\\";\\nqreg q[5];\\ncreg c[5];\\nh q[1];\\nh q[2];\\nh q[3];\\nh q[4];\\nh q[0];\\nmeasure q[0] -> c[0];\\nmeasure q[1] -> c[1];\\nmeasure q[2] -> c[2];\\nmeasure q[3] -> c[3];\\nmeasure q[4] -> c[4];\\n\"",
       "editable": true,
       "layout": "IPY_MODEL_e0644d12e5c24e6dacaec0b8a1fdb26b",
       "qiskit_code_cell_index": -1
      }
     }
    },
    "version_major": 2,
    "version_minor": 0
   }
  }
 },
 "nbformat": 4,
 "nbformat_minor": 4
}
